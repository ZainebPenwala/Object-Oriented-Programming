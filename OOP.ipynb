{
 "cells": [
  {
   "cell_type": "code",
   "execution_count": 2,
   "metadata": {},
   "outputs": [
    {
     "name": "stdout",
     "output_type": "stream",
     "text": [
      "Mumbai University\n",
      "Maharashtra\n",
      "Name= Mumbai University State= Maharashtra\n"
     ]
    }
   ],
   "source": [
    "#EXAMPLE1:\n",
    "\n",
    "class University():\n",
    "    name=\"Mumbai University\"\n",
    "    state=\"Maharashtra\"\n",
    "    \n",
    "stud1=University()\n",
    "print(University.name)\n",
    "print(University.state)\n",
    "print(\"Name=\",stud1.name,\"State=\",stud1.state)"
   ]
  },
  {
   "cell_type": "code",
   "execution_count": 34,
   "metadata": {},
   "outputs": [
    {
     "name": "stdout",
     "output_type": "stream",
     "text": [
      "Sam 01 IT\n",
      "Ram 02 COMP\n"
     ]
    }
   ],
   "source": [
    "#CONSTRUCTORS:\n",
    "\n",
    "class University():\n",
    "    def __init__(self,name,id_no,branch):\n",
    "        \n",
    "        self.name=name\n",
    "        self.id_no=id_no\n",
    "        self.branch=branch\n",
    "\n",
    "stud1=University(\"Sam\", \"01\",\"IT\")\n",
    "stud2=University(\"Ram\",\"02\", \"COMP\")\n",
    "\n",
    "print(stud1.name, stud1.id_no, stud1.branch)\n",
    "print(stud2.name,stud2.id_no, stud2.branch)"
   ]
  },
  {
   "cell_type": "code",
   "execution_count": 19,
   "metadata": {},
   "outputs": [
    {
     "name": "stdout",
     "output_type": "stream",
     "text": [
      "The area of the circle is: 78.5\n",
      "The color of the circle is: Red\n"
     ]
    }
   ],
   "source": [
    "#EXAMPLE 2: create a class circle and compute its area\n",
    "\n",
    "class Circle():\n",
    "    pi=3.14\n",
    "    \n",
    "    def __init__(self,radius,color):\n",
    "        self.radius=radius\n",
    "        self.color=color\n",
    "        \n",
    "    def area(self):\n",
    "        self.area = Circle.pi * c1.radius * c1.radius\n",
    "        return self.area\n",
    "\n",
    "c1=Circle(5,\"Red\")\n",
    "print(\"The area of the circle is:\",c1.area())\n",
    "print(\"The color of the circle is:\", c1.color)"
   ]
  },
  {
   "cell_type": "code",
   "execution_count": 23,
   "metadata": {},
   "outputs": [
    {
     "name": "stdout",
     "output_type": "stream",
     "text": [
      "The salary after hike is: 6251250.0\n"
     ]
    }
   ],
   "source": [
    "# EXAMPLE 3: create a class employee and calculate the salary after hike\n",
    "\n",
    "class Employee():\n",
    "    hike = 0.5\n",
    "    \n",
    "    def __init__(self,name,dept,salary):\n",
    "        self.name=name\n",
    "        self.dept=dept\n",
    "        self.salary=salary\n",
    "        \n",
    "    def total_salary (self):\n",
    "        self.total_salary = (Employee.hike + self.salary) * self.salary\n",
    "        return self.total_salary\n",
    "\n",
    "emp1=Employee(\"Ram\",\"HR\", 2500)\n",
    "print(\"The salary after hike is:\",emp1.total_salary())"
   ]
  },
  {
   "cell_type": "code",
   "execution_count": 33,
   "metadata": {},
   "outputs": [
    {
     "name": "stdout",
     "output_type": "stream",
     "text": [
      "The total count is: 4\n"
     ]
    }
   ],
   "source": [
    "# get the total count of the employees\n",
    "\n",
    "class Company():\n",
    "    count=0\n",
    "    \n",
    "    def __init__(self):\n",
    "        self.status =\"Active\"\n",
    "        Company.count+=1\n",
    "        \n",
    "    def change_status(self,new_status):\n",
    "        if self.status in [\"Inactive\", \"Suspended\", \"Terminated\"] and new_status==\"Active\":\n",
    "            Company.count+=1\n",
    "        elif self.status==\"Active\" and new_status in [\"Inactive\", \"Suspended\", \"Terminated\"]:\n",
    "            Company.count+=1\n",
    "        self.status = new_status\n",
    "        \n",
    "emp1=Company()\n",
    "emp2=Company()\n",
    "emp1.change_status(\"Suspended\")\n",
    "emp1.change_status(\"Active\")\n",
    "print(\"The total count is:\",Company.count)"
   ]
  },
  {
   "cell_type": "code",
   "execution_count": null,
   "metadata": {},
   "outputs": [],
   "source": []
  }
 ],
 "metadata": {
  "kernelspec": {
   "display_name": "Python 3",
   "language": "python",
   "name": "python3"
  },
  "language_info": {
   "codemirror_mode": {
    "name": "ipython",
    "version": 3
   },
   "file_extension": ".py",
   "mimetype": "text/x-python",
   "name": "python",
   "nbconvert_exporter": "python",
   "pygments_lexer": "ipython3",
   "version": "3.7.3"
  }
 },
 "nbformat": 4,
 "nbformat_minor": 2
}
